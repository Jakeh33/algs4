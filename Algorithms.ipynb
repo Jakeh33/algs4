{
  "nbformat": 4,
  "nbformat_minor": 0,
  "metadata": {
    "colab": {
      "name": "Algorithms.ipynb",
      "provenance": [],
      "collapsed_sections": [
        "zf_2tCYgdL_Y",
        "2m7nHKudeKkg",
        "vwkwtxt1eNJi",
        "O_xDL020mpKW",
        "rE3pxfsBsTTq",
        "itsP9gnqKHmV",
        "dIqQ5gFJa6om",
        "vQtWWvCcduRa",
        "2ySWRIYpi3xB",
        "s6GJ3ZfgsRTq",
        "H6RBG09etcES",
        "6sMQyJ07thYo",
        "wdx2JdoD6qTQ",
        "bvGiv9cCm0mF",
        "P_pDujowp1TP",
        "s38P3acSta6E",
        "YptehZ430sEx",
        "Y7TOBd0a22On",
        "jPQ0gVAA2z1q",
        "Bap3gbqhsx8a",
        "z0O0Y7JO5lX5"
      ],
      "toc_visible": true,
      "authorship_tag": "ABX9TyNoEXZlG/LW8pDwpCRGr93A",
      "include_colab_link": true
    },
    "kernelspec": {
      "name": "python3",
      "display_name": "Python 3"
    }
  },
  "cells": [
    {
      "cell_type": "markdown",
      "metadata": {
        "id": "view-in-github",
        "colab_type": "text"
      },
      "source": [
        "<a href=\"https://colab.research.google.com/github/Jakeh33/algs4/blob/main/Algorithms.ipynb\" target=\"_parent\"><img src=\"https://colab.research.google.com/assets/colab-badge.svg\" alt=\"Open In Colab\"/></a>"
      ]
    },
    {
      "cell_type": "markdown",
      "metadata": {
        "id": "zf_2tCYgdL_Y"
      },
      "source": [
        "# 引言\n",
        "- [课程及教材地址](https://algs4.cs.princeton.edu/home/)\n",
        "- [github](https://github.com/kevin-wayne/algs4)\n",
        "- 示例语言JAVA\n",
        "- [Coursera](https://www.coursera.org/learn/algorithms-part1/home/welcome)\n",
        "- [b站](https://www.bilibili.com/video/BV1u441127b5)\n",
        "- [油管](https://www.youtube.com/playlist?list=PLRdD1c6QbAqJn0606RlOR6T3yUqFWKwmX)"
      ]
    },
    {
      "cell_type": "markdown",
      "metadata": {
        "id": "2m7nHKudeKkg"
      },
      "source": [
        "# 基础"
      ]
    },
    {
      "cell_type": "markdown",
      "metadata": {
        "id": "vwkwtxt1eNJi"
      },
      "source": [
        "## 算法复杂度\n",
        "- 1\n",
        "- logN：二分\n",
        "- N：循环\n",
        "- NlogN：分治\n",
        "- $N^2$：双循环\n",
        "- $N^3$：三循环\n",
        "- $2^N$：穷举\n",
        "\n",
        "![总结](https://algs4.cs.princeton.edu/14analysis/images/classifications.png)\n"
      ]
    },
    {
      "cell_type": "markdown",
      "metadata": {
        "id": "O_xDL020mpKW"
      },
      "source": [
        "## 并查集（Union-Find）\n"
      ]
    },
    {
      "cell_type": "markdown",
      "metadata": {
        "id": "rE3pxfsBsTTq"
      },
      "source": [
        "### 动态连接性\n",
        "- 已知一系列的组合，两两之间连通，目标是判断任意两个数之间是否连通\n",
        "- 已连接子集{a b} {c d e} {f g} {h}\n",
        "- 每个子集中的元素都是连通的\n",
        "\n"
      ]
    },
    {
      "cell_type": "markdown",
      "metadata": {
        "id": "itsP9gnqKHmV"
      },
      "source": [
        "#### 快速查找\n",
        "- 数组中连通的位置存储的数据相同\n",
        "- 直接通过索引查找目标位置\n",
        "- 在这个基础上如果需要合并，需要先得到p位置的数字，再遍历将相同数字的位置改为q的数字\n",
        "- 这种合并方案在实现时会随着数据量增加而变慢\n",
        "- 复杂度：初始化N，合并N，查找1\n",
        "- 判断N个项目就产生了$N^2$操作次数，不够快"
      ]
    },
    {
      "cell_type": "markdown",
      "metadata": {
        "id": "dIqQ5gFJa6om"
      },
      "source": [
        "#### 快速合并\n",
        "- 数组中每个位置存储其父节点的位置，将数组看作树结构\n",
        "- 判断是否连通只需判断是否属于同一个根节点\n",
        "- 合并只需要将根节点连接起来\n",
        "- 复杂度：初始化N,合并N（包含搜索根节点），查找N（最复杂时）\n",
        "- 树可能会很高，寻找的速度变慢\n",
        "\n",
        "\n",
        "![举例](https://algs4.cs.princeton.edu/15uf/images/quick-union-overview.png)"
      ]
    },
    {
      "cell_type": "markdown",
      "metadata": {
        "id": "vQtWWvCcduRa"
      },
      "source": [
        "#### 快速合并提升\n",
        "- 避免将树的高度叠高\n",
        "- 通过判断树的高度，在合并时将更短的树的根节点连接到更高的树的根节点\n",
        "- 降低每个节点与根节点的距离\n",
        "- 复杂度：初始化N，合并$\\log N$,查找$\\log N$\n",
        "- 带路径压缩的合并（将节点的父节点设为其祖父节点）\n",
        "\n",
        "![原理](https://algs4.cs.princeton.edu/15uf/images/weighted-quick-union-overview.png)\n",
        "\n",
        "![总结](https://algs4.cs.princeton.edu/15uf/images/uf-performance.png)"
      ]
    },
    {
      "cell_type": "markdown",
      "metadata": {
        "id": "2ySWRIYpi3xB"
      },
      "source": [
        "#### 应用\n",
        "- 蒙特卡洛模拟\n",
        "  - 初始全闭网格，给定概率设为开\n",
        "  - 判断其上下是否连通\n",
        "  - 连通后给出其概率估计值\n",
        "  - 为了减少数据量，可以在上下各增加一个虚拟位，只需判断两个虚拟位是否连通"
      ]
    },
    {
      "cell_type": "code",
      "metadata": {
        "colab": {
          "base_uri": "https://localhost:8080/"
        },
        "id": "a_XdqEohvSsl",
        "outputId": "73dad415-6b59-4490-c927-b0c9a7e8488a"
      },
      "source": [
        "import numpy as np\n",
        "class UF:\n",
        "  parent = []\n",
        "  rank = []\n",
        "  count = 0\n",
        "  \n",
        "  def __init__(self,n):\n",
        "    if (n<0):\n",
        "      return 0\n",
        "    else:\n",
        "      self.count = n\n",
        "      self.parent =[]\n",
        "      self.rank = []\n",
        "      for i in range(0,n):\n",
        "        self.parent.append(i)\n",
        "        self.rank.append(0)\n",
        "  def find(self,p):\n",
        "    while(p!= self.parent[p]):\n",
        "      self.parent[p] = self.parent[self.parent[p]]\n",
        "      p = self.parent[p]\n",
        "    return p\n",
        "  def get_count(self):\n",
        "    return self.count\n",
        "  def connected(self,p,q):\n",
        "    return self.find(p) == self.find(q)\n",
        "  def union(self,p,q):\n",
        "    rootP = self.find(p)\n",
        "    rootQ = self.find(q)\n",
        "    if (rootP == rootQ):\n",
        "      return\n",
        "    if (self.rank[rootP] < self.rank[rootQ]):\n",
        "      self.parent[rootP]=rootQ\n",
        "    elif (self.rank[rootP] > self.rank[rootQ]):\n",
        "      self.parent[rootP]=rootP\n",
        "    else:\n",
        "      self.parent[rootQ] = rootP\n",
        "      self.rank[rootP]+=1\n",
        "    self.count -=1\n",
        "uf = UF(10)\n",
        "uf.union(3,4)\n",
        "uf.union(3,8)\n",
        "uf.union(6,5)\n",
        "uf.union(9,4)\n",
        "uf.union(2,1)\n",
        "uf.union(8,9)\n",
        "print(uf.parent)\n",
        "print(uf.rank)\n",
        "print(uf.get_count())\n",
        "uf.union(5,0)\n",
        "uf.union(7,2)\n",
        "uf.union(6,1)\n",
        "uf.union(1,0)\n",
        "uf.union(6,7)\n",
        "print(uf.parent)\n",
        "print(uf.rank)\n",
        "print(uf.get_count())"
      ],
      "execution_count": null,
      "outputs": [
        {
          "output_type": "stream",
          "text": [
            "[0, 2, 2, 3, 3, 6, 6, 7, 3, 3]\n",
            "[0, 0, 1, 1, 0, 0, 1, 0, 0, 0]\n",
            "4\n",
            "[0, 6, 6, 3, 3, 6, 6, 6, 3, 3]\n",
            "[0, 0, 1, 1, 0, 0, 2, 0, 0, 0]\n",
            "0\n"
          ],
          "name": "stdout"
        }
      ]
    },
    {
      "cell_type": "markdown",
      "metadata": {
        "id": "s6GJ3ZfgsRTq"
      },
      "source": [
        "## 堆栈、队列、背包"
      ]
    },
    {
      "cell_type": "markdown",
      "metadata": {
        "id": "H6RBG09etcES"
      },
      "source": [
        "### 栈\n",
        "- 后进先出\n",
        "- 链表实现或数组实现\n",
        "- 好习惯：在pop之后置null\n",
        "- 数组实现：在满栈之后扩展数组，在占用小于1/4时缩小数组长度"
      ]
    },
    {
      "cell_type": "markdown",
      "metadata": {
        "id": "6sMQyJ07thYo"
      },
      "source": [
        "### 队列\n",
        "- 先进先出\n",
        "- 链表实现：两个指针，指向头和尾\n"
      ]
    },
    {
      "cell_type": "markdown",
      "metadata": {
        "id": "GtsIVSB76pCt"
      },
      "source": [
        "# 排序"
      ]
    },
    {
      "cell_type": "markdown",
      "metadata": {
        "id": "wdx2JdoD6qTQ"
      },
      "source": [
        "## 基础排序\n",
        "- 按照某种规则对键值进行排序 \n",
        "- 比较大小，交换位置"
      ]
    },
    {
      "cell_type": "markdown",
      "metadata": {
        "id": "bvGiv9cCm0mF"
      },
      "source": [
        "### 选择排序\n",
        "- 选择未排序中最小的与首项交换位置\n",
        "- ~$\\frac{1} 2 N^2$"
      ]
    },
    {
      "cell_type": "code",
      "metadata": {
        "id": "V5bVEmFsm9_f"
      },
      "source": [
        "def sele_sort(arr):\n",
        "  n = len(arr)\n",
        "  for i in range(0,n):\n",
        "    index = i\n",
        "    for j in range(i,n):\n",
        "      if (arr[j]<arr[index]):\n",
        "        index = j\n",
        "    if (index != i):\n",
        "      temp = arr[i]\n",
        "      arr[i] = arr[index]\n",
        "      arr[index] = temp\n",
        "  return arr"
      ],
      "execution_count": null,
      "outputs": []
    },
    {
      "cell_type": "markdown",
      "metadata": {
        "id": "P_pDujowp1TP"
      },
      "source": [
        "### 插入排序\n",
        "- 将标志位左边的按照顺序排好，新数据逐次交换至正确位置\n",
        "- ~$\\frac{1} 4 N^2$"
      ]
    },
    {
      "cell_type": "code",
      "metadata": {
        "id": "TC2w4LnqqWA-"
      },
      "source": [
        "def insert_sort(arr):\n",
        "  n = len(arr)\n",
        "  for i in range(0,n):\n",
        "    for j in range(i,0,-1):\n",
        "      if (arr[j]<arr[j-1]):\n",
        "        temp = arr[j]\n",
        "        arr[j] =arr[j-1]\n",
        "        arr[j-1] = temp\n",
        "  return arr"
      ],
      "execution_count": null,
      "outputs": []
    },
    {
      "cell_type": "markdown",
      "metadata": {
        "id": "s38P3acSta6E"
      },
      "source": [
        "### 希尔排序(shellsort)\n",
        "- 在插入排序基础上，多次循环，逐次比较的间隔缩小\n",
        "- 间隔h的选取\n",
        "  - $2^n$不太行\n",
        "  - $2^n -1$也许可行\n",
        "  - $3n-1$ 还不错\n",
        "  - Sedgewivk $1,5,19,41,109,209,505,929...$ 挺好用的\n",
        "- ~ $N^{3/2}$"
      ]
    },
    {
      "cell_type": "code",
      "metadata": {
        "id": "8R8Z7w__ti2_"
      },
      "source": [
        "def shell_sort(arr,h_list):\n",
        "  n = len(arr)\n",
        "  m = len(h_list)\n",
        "  for j in range(0,m):\n",
        "    h = h_list[j]\n",
        "    for i in range(h,n):\n",
        "      for k in range(i,h-1,-h):\n",
        "        if (arr[k]<arr[k-h]):\n",
        "          temp = arr[k]\n",
        "          arr[k]= arr[k-h]\n",
        "          arr[k-h] =temp\n",
        "  return arr\n"
      ],
      "execution_count": null,
      "outputs": []
    },
    {
      "cell_type": "markdown",
      "metadata": {
        "id": "YptehZ430sEx"
      },
      "source": [
        "### 洗牌排序\n",
        "- 生成随机数列的方式\n",
        "- 对现有有序/无序数列遍历，标志位i每增加1，生成一个在0~i中的随机整数r，交换i,r"
      ]
    },
    {
      "cell_type": "markdown",
      "metadata": {
        "id": "Y7TOBd0a22On"
      },
      "source": [
        "### 应用\n",
        "- convex hull：   \n",
        "  需要一组空间点中能够作为顶点组成多边形将其余所有点包围的顶点组合\n",
        "- Graham 扫描\n",
        " - 选择y坐标最小的点\n",
        " - 将其余点与其连线计算极角并排序\n",
        " - 按顺序连线，必须满足从原点开始每一个新的连线都是以上一条线延长线逆时针旋转后得到的\n",
        " - 通过判断三个点坐标组成的行列式值的符号，确定是否逆时针（CCW）"
      ]
    },
    {
      "cell_type": "markdown",
      "metadata": {
        "id": "jPQ0gVAA2z1q"
      },
      "source": [
        "## 归并排序（Mergesort）\n",
        "- 对半分\n",
        "- 递归排序：一直对半分到双元素排序\n",
        "- 合并"
      ]
    },
    {
      "cell_type": "markdown",
      "metadata": {
        "id": "Bap3gbqhsx8a"
      },
      "source": [
        "### 分治\n",
        "- 将问题通过二分递归求解\n",
        "- ~$6NlogN$\n",
        "- $D(N) = 2D(N/2) , D(1) =0 \\to D(N)= NlogN$\n",
        "- 数据量越大越高效\n",
        "- 在比较次数上最优，但空间l"
      ]
    },
    {
      "cell_type": "markdown",
      "metadata": {
        "id": "z0O0Y7JO5lX5"
      },
      "source": [
        "### 自下而上的递归\n",
        "- 从两个元素为一组开始两两合并\n",
        "- 排序完成的部分呈幂次增长"
      ]
    },
    {
      "cell_type": "code",
      "metadata": {
        "id": "Ucc_3-G3ZITs"
      },
      "source": [
        "def merge(left,right):\n",
        "  res = []\n",
        "  i =j =0\n",
        "  while(i<len(left) and j<len(right)):\n",
        "    if (left[i]<right[j]):\n",
        "      res.append(left[i])\n",
        "      i +=1\n",
        "    else:\n",
        "      res.append(right[j])\n",
        "      j +=1\n",
        "  while (i == len(left) and j < len(right)):\n",
        "    res.append(right[j])\n",
        "    j +=1\n",
        "  while (i < len(left) and j == len(right)):\n",
        "    res.append(left[i])\n",
        "    i +=1\n",
        "  return res\n",
        "\n",
        "def merge_sort(arr):\n",
        "  if len(arr)<=1:\n",
        "    return arr\n",
        "  middle = len(arr)//2\n",
        "  left = merge_sort(arr[:middle])\n",
        "  right = merge_sort(arr[middle:])\n",
        "  return merge(left,right)\n"
      ],
      "execution_count": null,
      "outputs": []
    },
    {
      "cell_type": "markdown",
      "metadata": {
        "id": "wej8bOqC3YYA"
      },
      "source": [
        "## 快排\n",
        "- 递归：把数列按照基准元素分为两部分，一部分小于，另一部分大于\n",
        "- 重复分割\n",
        "- 无需额外空间\n",
        "- ~$NlogN$"
      ]
    },
    {
      "cell_type": "code",
      "metadata": {
        "id": "_nX0yJfF7ZWD"
      },
      "source": [
        "# 实现逻辑\n",
        "def quick_sor(arr):\n",
        "  if len(arr) <= 1:\n",
        "    return arr\n",
        "  else:\n",
        "    base = arr[0]\n",
        "    less = [v for v in arr[1:] if v<=base]\n",
        "    more = [v for v in arr[1:] if v>base]\n",
        "    return quick_sor(less) + [base] + quick_sor(more)"
      ],
      "execution_count": null,
      "outputs": []
    },
    {
      "cell_type": "code",
      "metadata": {
        "id": "WCWNHisv3a3e"
      },
      "source": [
        "def partition(arr,lo,hi):\n",
        "  base = arr[lo]\n",
        "  i = lo+1\n",
        "  j = hi\n",
        "  while(i<j):\n",
        "    while(i<j and arr[i]<= base):\n",
        "      i+=1\n",
        "    while(i<j and arr[j]>base):\n",
        "      j -=1\n",
        "    arr[i],arr[j] =arr[j],arr[i]\n",
        "  arr[lo],arr[i-1] = arr[i-1],arr[lo]\n",
        "  return i-1\n",
        "  \n",
        "def quick_sort(arr,lo,hi):\n",
        "  if lo < hi:\n",
        "    mid = partition(arr,lo,hi)\n",
        "    quick_sort(arr,lo,mid-1)\n",
        "    quick_sort(arr,mid+1,hi)\n",
        "  else:\n",
        "    return\n",
        "  return arr\n",
        "  "
      ],
      "execution_count": null,
      "outputs": []
    },
    {
      "cell_type": "markdown",
      "metadata": {
        "id": "-C5p9C2pOG3v"
      },
      "source": [
        "- 选取最大/小的第k个元素：\n",
        "  - 分组\n",
        "  - 判断分组元素是否是k\n",
        "  - 大于k，右边部分继续分组，反之左边\n",
        "- 重复键值：\n",
        "  - 三向分割，小于，等于，大于\n",
        "  "
      ]
    },
    {
      "cell_type": "markdown",
      "metadata": {
        "id": "H5L-ODcaU7ez"
      },
      "source": [
        "## 优先级队列（Priority queues）\n",
        "- 取出队列中最大/最小的项\n"
      ]
    },
    {
      "cell_type": "markdown",
      "metadata": {
        "id": "npyC2O7A28SM"
      },
      "source": [
        "### 二进制堆（Binary Heap）\n",
        "- 将数组视为二叉树\n",
        "- 保证父节点的值大于叶子节点\n",
        "- 新插入的数放在最后，通过比较换位确定在二叉树中的位置\n"
      ]
    },
    {
      "cell_type": "markdown",
      "metadata": {
        "id": "fC9eOx8NNU__"
      },
      "source": [
        "### 堆排序\n",
        "- 根据二进制堆的概念\n",
        "- 将每个节点下的二叉树都确保最小/最大排序原则"
      ]
    },
    {
      "cell_type": "markdown",
      "metadata": {
        "id": "FFcB5Wq6UO17"
      },
      "source": [
        "- 保证$NlogN$\n",
        "- 时间和空间上都是最优\n",
        "- 内循环比快排多（比较次数多）\n",
        "- 缓存空间使用率低\n",
        "- 不稳定"
      ]
    },
    {
      "cell_type": "code",
      "metadata": {
        "id": "XtBi3qb2RIt2"
      },
      "source": [
        "import math\n",
        "def shift_down(arr,start,end):\n",
        "  left = 2*start+1\n",
        "  right = 2*start+2\n",
        "  maxium = start\n",
        "  if (left < end) and (arr[left]>arr[start]):\n",
        "    maxium = left\n",
        "  if (right < end) and(arr[right]>arr[maxium]):\n",
        "    maxium = right\n",
        "  if maxium != start:\n",
        "    arr[start],arr[maxium] = arr[maxium],arr[start]\n",
        "    shift_down(arr,maxium,end)\n",
        "\n",
        "def heap_sort(arr):\n",
        "  n = len(arr)\n",
        "  for i in range(n-1,-1,-1):\n",
        "    shift_down(arr,i,n)\n",
        "  for i in range(n-1,0,-1):\n",
        "    arr[0],arr[i] = arr[i],arr[0]\n",
        "    shift_down(arr,0,i)\n",
        "  return arr\n"
      ],
      "execution_count": null,
      "outputs": []
    },
    {
      "cell_type": "markdown",
      "metadata": {
        "id": "nCP6XugNyfQ0"
      },
      "source": [
        "## 排序测试\n",
        "- 几种算法总结\n",
        "\n",
        "![summary](https://algs4.cs.princeton.edu/25applications/images/sort-characteristics.png)"
      ]
    },
    {
      "cell_type": "code",
      "metadata": {
        "colab": {
          "base_uri": "https://localhost:8080/"
        },
        "id": "DGCXoTuyviyP",
        "outputId": "df700d9d-9012-4e95-9d6b-5c9c6303f366"
      },
      "source": [
        "arr = [2,5,7,3,1,8,10,1,4,3,12,16,13,1,4,8,5,10,15,13,21,4]\n",
        "h_list = [7,3,1]    \n",
        "\n",
        "print(insert_sort(arr))\n",
        "print(sele_sort(arr))\n",
        "print(shell_sort(arr,h_list))\n",
        "print(merge_sort(arr))\n",
        "print(quick_sort(arr,0,len(arr)-1))\n",
        "print(heap_sort(arr))"
      ],
      "execution_count": null,
      "outputs": [
        {
          "output_type": "stream",
          "text": [
            "[1, 1, 1, 2, 3, 3, 4, 4, 4, 5, 5, 7, 8, 8, 10, 10, 12, 13, 13, 15, 16, 21]\n",
            "[1, 1, 1, 2, 3, 3, 4, 4, 4, 5, 5, 7, 8, 8, 10, 10, 12, 13, 13, 15, 16, 21]\n",
            "[1, 1, 1, 2, 3, 3, 4, 4, 4, 5, 5, 7, 8, 8, 10, 10, 12, 13, 13, 15, 16, 21]\n",
            "[1, 1, 1, 2, 3, 3, 4, 4, 4, 5, 5, 7, 8, 8, 10, 10, 12, 13, 13, 15, 16, 21]\n",
            "[1, 1, 1, 2, 3, 3, 4, 4, 4, 5, 5, 7, 8, 8, 10, 10, 12, 13, 13, 15, 16, 21]\n",
            "[1, 1, 1, 2, 3, 3, 4, 4, 4, 5, 5, 7, 8, 8, 10, 10, 12, 13, 13, 15, 16, 21]\n"
          ],
          "name": "stdout"
        }
      ]
    },
    {
      "cell_type": "markdown",
      "metadata": {
        "id": "nveNY7-Jrwah"
      },
      "source": [
        "# 搜索\n"
      ]
    },
    {
      "cell_type": "markdown",
      "metadata": {
        "id": "_6sjvdlDr20E"
      },
      "source": [
        "## 基本符号表\n",
        "\n",
        "- 插入一个有关键字和键值\n",
        "- 给出关键字，搜索对应值\n",
        "- `a[key] = val`\n",
        "- "
      ]
    },
    {
      "cell_type": "markdown",
      "metadata": {
        "id": "v7pit4E3in8X"
      },
      "source": [
        "## 二叉搜索树\n",
        "Binary Search Tree（BST）\n",
        "\n",
        "- 结构：\n",
        "  - 对称二叉树：每个节点都大于其左子树的叶子节点，小于其右子树的叶子节点\n",
        "  - ![示例](https://algs4.cs.princeton.edu/32bst/images/bst-anatomy.png)"
      ]
    },
    {
      "cell_type": "markdown",
      "metadata": {
        "id": "lCwoQoZzZpLr"
      },
      "source": [
        "#### 二叉树遍历\n",
        "- 前序：根节点 -> 左节点 -> 右节点\n",
        "- 中序：左节点 -> 根节点 -> 右节点\n",
        "- 后序：左节点 -> 右节点 -> 根节点\n",
        "- ![举例](https://pic4.zhimg.com/80/v2-0fcc909a2787cd92c1315481748d2b57_720w.jpg)\n",
        "- 前序：A-B-D-F-G-H-I-E-C\n",
        "- 中序：F-D-H-I-G-B-E-A-C\n",
        "- 后序：F-H-I-G-D-E-B-C-A"
      ]
    },
    {
      "cell_type": "code",
      "metadata": {
        "colab": {
          "base_uri": "https://localhost:8080/"
        },
        "id": "CTAaD5WjY4px",
        "outputId": "6d7cdca9-4960-4205-87bc-931dd03bf946"
      },
      "source": [
        "class Node:\n",
        "  def __init__(self,data):\n",
        "    self.data = data\n",
        "    self.left_child = None\n",
        "    self.right_child = None\n",
        "\n",
        "class BST:\n",
        "  preOrder = []\n",
        "\n",
        "  def __init__(self,node_list):\n",
        "    self.root = Node(node_list[0])\n",
        "    for i in node_list[1:]:\n",
        "      self.insert(i) \n",
        "  \n",
        "  def search(self, root, data):\n",
        "    flag = 0\n",
        "    prev = None\n",
        "    while(root != None) and root.data !=data:\n",
        "      prev = root\n",
        "      if (data < root.data):\n",
        "        root = root.left_child\n",
        "      elif (data > root.data):\n",
        "        root = root.right_child\n",
        "    if (root):\n",
        "      flag = 1\n",
        "    return flag, prev, root\n",
        "\n",
        "  def insert(self,data):\n",
        "    flag,prev,root = self.search(self.root, data)\n",
        "    if (prev == None):\n",
        "      print(\"initial\")\n",
        "      self.root = Node(val)\n",
        "    \n",
        "    if (flag == 0):\n",
        "      root = Node(data)\n",
        "      if (data<prev.data):\n",
        "        prev.left_child = root\n",
        "      else:\n",
        "        prev.right_child = root\n",
        "    else:\n",
        "      print(\"Already exist\")\n",
        "    return\n",
        "\n",
        "  def delete(self, data):\n",
        "    flag,prev,root = self.search (self.root, data)\n",
        "    if (flag == 0):\n",
        "      print(\"Failed to delete, cause no such data\")\n",
        "      return \n",
        "    \n",
        "    # 备选节点没有左右叶子节点\n",
        "    if (root.left_child == None or root.right_child == None):\n",
        "\n",
        "      if (root.left_child == None and root.right_child == None):\n",
        "        replace = None\n",
        "      elif (root.left_child == None):\n",
        "        replace = root.right_child\n",
        "      elif (root.right_child == None):\n",
        "        replace = root.left_child\n",
        "    \n",
        "      if (prev.left_child == root):\n",
        "        prev.left_child = replace\n",
        "      else:\n",
        "        prev.right_child = replace\n",
        "    \n",
        "    if (root.left_child and root.right_child):\n",
        "      check = root.right_child\n",
        "      while (check.left_child):\n",
        "        check = check.left_child\n",
        "      temp = check.data\n",
        "      self.delete(check.data)\n",
        "      root.data = temp\n",
        "    return \n",
        "\n",
        "  # 前序遍历（根左右）\n",
        "  def preOrderTra(self,node):\n",
        "    if (node):\n",
        "      print(node.data,end = ' ')\n",
        "      self.preOrderTra(node.left_child)\n",
        "      self.preOrderTra(node.right_child)\n",
        "  # 中序遍历（左根右）\n",
        "  def inOrderTra(self,node):\n",
        "    if (node):\n",
        "      self.inOrderTra(node.left_child)\n",
        "      print(node.data,end=' ')\n",
        "      self.inOrderTra(node.right_child)\n",
        "  # 后序遍历（左右根）\n",
        "  def postOrderTra(self,node):\n",
        "    if(node):\n",
        "      self.postOrderTra(node.left_child)\n",
        "      self.postOrderTra(node.right_child)\n",
        "      print(node.data,end =' ')\n",
        "\n",
        "    \n",
        "arr =  [17,5,25,2,11,35,9,16,29,38,7,8]\n",
        "a = BST(arr)\n",
        "a.preOrderTra(a.root)\n",
        "a.delete(5)\n",
        "print()\n",
        "a.preOrderTra(a.root)"
      ],
      "execution_count": null,
      "outputs": [
        {
          "output_type": "stream",
          "text": [
            "17 5 2 11 9 7 8 16 25 35 29 38 \n",
            "17 7 2 11 9 8 16 25 35 29 38 "
          ],
          "name": "stdout"
        }
      ]
    },
    {
      "cell_type": "markdown",
      "metadata": {
        "id": "kt7Oyvtd11p_"
      },
      "source": [
        "## 红黑树\n",
        "- 构建更为平衡的二叉树\n",
        "- 将2-3树改写为二叉树\n",
        "  - 2-3树：根节点为2个数，三个叶子节点分别为三个区间的数据\n",
        "  - 红黑树：含有红黑节点的自平衡二叉树，满足：\n",
        "    - 节点为黑色或红色\n",
        "    - 根节点为黑色\n",
        "    - 叶子节点（None）为黑色\n",
        "    - 每个红色节点的两个子节点必为黑\n",
        "    - 任意节点到每个叶子节点的路径包含相同数量的黑色节点\n",
        "\n",
        "\n",
        "  \n"
      ]
    },
    {
      "cell_type": "code",
      "metadata": {
        "id": "5XgzEL1kWK8q"
      },
      "source": [
        "class Node:\n",
        "  def __init__(self,data):\n",
        "    self.data =data\n",
        "    self.left_child = None\n",
        "    self.right_child = None\n",
        "    self.isRed = False\n",
        "    \n",
        "class RBtree:\n"
      ],
      "execution_count": null,
      "outputs": []
    },
    {
      "cell_type": "markdown",
      "metadata": {
        "id": "uJ4SznqK-4uJ"
      },
      "source": [
        "---\n",
        "# 实战"
      ]
    },
    {
      "cell_type": "code",
      "metadata": {
        "colab": {
          "base_uri": "https://localhost:8080/"
        },
        "id": "RAnDAHPE7GsI",
        "outputId": "c2691ae9-ac30-4c39-c4ac-ea0b0c416e28"
      },
      "source": [
        "def mmmm(n):\n",
        "  mem = [-1]*(n+1)\n",
        "  def dp(n):\n",
        "    if mem[n] != -1:\n",
        "      return mem[n]\n",
        "    if n == 1:\n",
        "      return 1\n",
        "    res = n\n",
        "\n",
        "    if (n%2 == 0 and n%3 ):\n",
        "      res = min(res,dp(n//2)+1,dp(n-1)+1)\n",
        "    elif (n%3 == 0 and n%2):\n",
        "      res = min(res,dp(n//3)+1,dp(n-1)+1)\n",
        "    elif (n%3 == 0 and n%2 ==0):\n",
        "      res = min(res,dp(n//3)+1,dp(n-1)+1,dp(n//2)+1)\n",
        "    else:\n",
        "      res = min(res,dp(n-1)+1)\n",
        "    # print(res,mem)\n",
        "    if res != -1:\n",
        "      mem[n] = res \n",
        "    return mem[n]\n",
        "  return dp(n)\n",
        "\n",
        "n = 565\n",
        "print(mmmm(n))\n"
      ],
      "execution_count": null,
      "outputs": [
        {
          "output_type": "stream",
          "text": [
            "11\n"
          ],
          "name": "stdout"
        }
      ]
    }
  ]
}